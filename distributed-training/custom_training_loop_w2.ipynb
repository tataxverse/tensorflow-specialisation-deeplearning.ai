{
  "nbformat": 4,
  "nbformat_minor": 0,
  "metadata": {
    "colab": {
      "provenance": [],
      "authorship_tag": "ABX9TyNpqxwfviDJjtP6zBeZ9y0i",
      "include_colab_link": true
    },
    "kernelspec": {
      "name": "python3",
      "display_name": "Python 3"
    },
    "language_info": {
      "name": "python"
    }
  },
  "cells": [
    {
      "cell_type": "markdown",
      "metadata": {
        "id": "view-in-github",
        "colab_type": "text"
      },
      "source": [
        "<a href=\"https://colab.research.google.com/github/tataxverse/tensorflow-specialisation-deeplearning.ai/blob/main/distributed-training/custom_training_loop_w2.ipynb\" target=\"_parent\"><img src=\"https://colab.research.google.com/assets/colab-badge.svg\" alt=\"Open In Colab\"/></a>"
      ]
    },
    {
      "cell_type": "code",
      "execution_count": 29,
      "metadata": {
        "id": "lRfCSEGYPr8q"
      },
      "outputs": [],
      "source": [
        "import tensorflow as tf\n",
        "\n",
        "from tensorflow.keras.models import Model\n",
        "from tensorflow.keras.layers import Dense, Input\n",
        "\n",
        "import numpy as np\n",
        "import matplotlib.pyplot as plt\n",
        "import pandas as pd\n",
        "\n",
        "from sklearn.model_selection import train_test_split\n",
        "from sklearn.metrics import confusion_matrix\n",
        "\n",
        "import itertools\n",
        "from tqdm import tqdm\n",
        "\n",
        "import tensorflow_datasets as tfds\n",
        "import matplotlib.ticker as mticker"
      ]
    },
    {
      "cell_type": "markdown",
      "source": [
        "**1. Load and Preprocess data**"
      ],
      "metadata": {
        "id": "15HekY_1UV1P"
      }
    },
    {
      "cell_type": "markdown",
      "source": [
        " Fashion MNIST dataset has 28 x 28 grayscale images of articles of clothing belonging to 10 clases."
      ],
      "metadata": {
        "id": "NMttXhIyQh-o"
      }
    },
    {
      "cell_type": "code",
      "source": [
        "train_data, info = tfds.load(\"fashion_mnist\", split = \"train\", with_info = True, data_dir='./data/', download=True)\n",
        "test_data = tfds.load(\"fashion_mnist\", split = \"test\", data_dir='./data/', download=True)\n",
        "\n",
        "#./data/ Directory where the dataset is (or should be) stored."
      ],
      "metadata": {
        "id": "2W8xr218QXBd"
      },
      "execution_count": 30,
      "outputs": []
    },
    {
      "cell_type": "code",
      "source": [
        "class_names = [\"T-shirt/top\", \"Trouser/pants\", \"Pullover shirt\", \"Dress\", \"Coat\", \"Sandal\", \"Shirt\", \"Sneaker\", \"Bag\", \"Ankle boot\"]"
      ],
      "metadata": {
        "id": "_ugSR8jLRoKd"
      },
      "execution_count": 31,
      "outputs": []
    },
    {
      "cell_type": "markdown",
      "source": [
        "Next, you normalize the images by dividing them by 255.0 so as to make the pixels fall in the range (0, 1). You also reshape the data so as to flatten the 28 x 28 pixel array into a flattened 784 pixel array."
      ],
      "metadata": {
        "id": "Toq6xMl1Rzle"
      }
    },
    {
      "cell_type": "code",
      "source": [
        "def format_image(data):\n",
        "  image=data[\"image\"]\n",
        "  image=tf.reshape(image, [-1]) #Reshapes the image into a 1D flat vector. Original Fashion MNIST image shape: (28, 28) After reshape: (784,)\n",
        "  image=tf.cast(image, 'float32')\n",
        "  image=image/255.0\n",
        "  return image, data[\"label\"] #Returns a tuple: (normalized image, label)"
      ],
      "metadata": {
        "id": "eLMnDe8PRoNV"
      },
      "execution_count": 32,
      "outputs": []
    },
    {
      "cell_type": "code",
      "source": [
        "train_data=train_data.map(format_image)\n",
        "test_data=test_data.map(format_image)"
      ],
      "metadata": {
        "id": "Km8p8P3vRoQv"
      },
      "execution_count": 33,
      "outputs": []
    },
    {
      "cell_type": "markdown",
      "source": [
        "Now you shuffle and batch your training and test datasets before feeding them to the model.\n",
        "\n",
        "train = shuffled and batched dataset (used for training).\n",
        "\n",
        "test = only batched (used for evaluation)."
      ],
      "metadata": {
        "id": "2ClnXghcSlBw"
      }
    },
    {
      "cell_type": "code",
      "source": [
        "batch_size=64 #Batch size is the number of samples your model processes before updating the weights during training.\n",
        "\n",
        "train=train_data.shuffle(buffer_size=1024).batch(batch_size) #shuffles the dataset randomly before batching.\n",
        "# it holds a buffer of 1024 elements and randomly selects elements from it. Groups the dataset into batches of size batch_size.\n",
        "\n",
        "test=test_data.batch(batch_size=batch_size) #We don’t shuffle test data"
      ],
      "metadata": {
        "id": "ttufwbibRoUM"
      },
      "execution_count": 34,
      "outputs": []
    },
    {
      "cell_type": "markdown",
      "source": [
        "**2. Define Model**"
      ],
      "metadata": {
        "id": "e6JPf_NhUMar"
      }
    },
    {
      "cell_type": "markdown",
      "source": [
        "You use Keras Functional API to connect two dense layers. The final layer is a softmax that outputs one of the 10 classes since this is a multi class classification problem."
      ],
      "metadata": {
        "id": "kcA6rragUlsn"
      }
    },
    {
      "cell_type": "code",
      "source": [
        "def base_model():\n",
        "  inputs=tf.keras.Input(shape=(784,),name='digits') #The input layer expects a flattened image vector of length 784\n",
        "\n",
        "  x=tf.keras.layers.Dense(64,activation='relu',name='dense_1')(inputs) #ReLU activation introduces non-linearity.\n",
        "  x=tf.keras.layers.Dense(64,activation='relu',name='dense_2')(x)\n",
        "\n",
        "  outputs=tf.keras.layers.Dense(10,activation='softmax',name='predictions')(x) #Final layer with 10 neurons, one for each Fashion MNIST class.\n",
        "  #Softmax converts raw outputs into probabilities that sum to 1.\n",
        "\n",
        "  model=tf.keras.Model(inputs=inputs,outputs=outputs) #Combines input, intermediate layers, and output into a complete model.\n",
        "  return model"
      ],
      "metadata": {
        "id": "JYkBDNMfQXHv"
      },
      "execution_count": 35,
      "outputs": []
    },
    {
      "cell_type": "markdown",
      "source": [
        "**3. Define Optimizer and Loss Function**"
      ],
      "metadata": {
        "id": "AQW2izELVhEv"
      }
    },
    {
      "cell_type": "markdown",
      "source": [
        "SparseCategoricalCrossentropy is perfect when:\n",
        "\n",
        "Your labels are integers (e.g., 0 to 9 for Fashion MNIST).\n",
        "\n",
        "You're using a softmax in the final layer (which you are ✅)."
      ],
      "metadata": {
        "id": "u7mQ2BqnWQB_"
      }
    },
    {
      "cell_type": "code",
      "source": [
        "model=base_model()\n",
        "optimizer=tf.keras.optimizers.Adam() #Adam automatically adjusts the learning rate for each parameter, which helps speed up and stabilize training.\n",
        "loss_fn=tf.keras.losses.SparseCategoricalCrossentropy() #the objective your model tries to minimize."
      ],
      "metadata": {
        "id": "HG8WjUDCVcfq"
      },
      "execution_count": 36,
      "outputs": []
    },
    {
      "cell_type": "markdown",
      "source": [
        "**4. Define Metrics**"
      ],
      "metadata": {
        "id": "TAvr1VMuWVpR"
      }
    },
    {
      "cell_type": "code",
      "source": [
        "train_acc_metric=tf.keras.metrics.SparseCategoricalAccuracy() #since the problem at hand is a multi class classification problem.\n",
        "val_acc_metric=tf.keras.metrics.SparseCategoricalAccuracy()"
      ],
      "metadata": {
        "id": "hccXY_JGVclL"
      },
      "execution_count": 37,
      "outputs": []
    },
    {
      "cell_type": "markdown",
      "source": [
        "**5. Building Training Loop**"
      ],
      "metadata": {
        "id": "FebRLbIRWwbo"
      }
    },
    {
      "cell_type": "markdown",
      "source": [
        "The core of training is using the model to **calculate the logits on specific set of inputs and compute loss** (in this case **sparse categorical crossentropy**) by comparing the predicted outputs to the true outputs.\n",
        "\n",
        "You then **update the trainable weights** using the optimizer algorithm chosen. Optimizer algorithm requires your computed loss and partial derivatives of loss with respect to each of the trainable weights to make updates to the same.\n",
        "\n",
        "You use **gradient tape** to calculate the gradients and then update the model trainable weights using the optimizer."
      ],
      "metadata": {
        "id": "KBxYTl15WzZO"
      }
    },
    {
      "cell_type": "code",
      "source": [
        "def apply_gradient(optimizer,model,x,y):\n",
        "  with tf.GradientTape() as tape:\n",
        "    logits=model(x) #Forward pass: model makes predictions.\n",
        "    loss_value=loss_fn(y_true=y,y_pred=logits) # Computes the loss using your earlier-defined loss_fn\n",
        "\n",
        "  gradient=tape.gradient(loss_value,model.trainable_weights) #Calculates the gradients of the loss with respect to each trainable parameter\n",
        "  optimizer.apply_gradients(zip(gradient,model.trainable_weights)) #Applies the gradients to update the model weights.\n",
        "  return logits, loss_value"
      ],
      "metadata": {
        "id": "Kxm6xgC8Vcoq"
      },
      "execution_count": 38,
      "outputs": []
    },
    {
      "cell_type": "markdown",
      "source": [
        "You run through all batches of training data in each epoch to make updates to trainable weights using your previous function."
      ],
      "metadata": {
        "id": "kq4DBmNQYcVd"
      }
    },
    {
      "cell_type": "code",
      "source": [
        "def train_data_for_one_epoch():\n",
        "  losses=[]\n",
        "  for step,(x_batch_train,y_batch_train) in enumerate(train): #Iterates over batches in your train dataset (which you earlier shuffled and batched).\n",
        "    logits,loss_value=apply_gradient(optimizer,model,x_batch_train,y_batch_train)\n",
        "    losses.append(loss_value)\n",
        "\n",
        "    train_acc_metric(y_batch_train,logits) #Updates a metric tracker (like accuracy) with the current batch.\n",
        "  return losses"
      ],
      "metadata": {
        "id": "eR6U41yHVcu7"
      },
      "execution_count": 39,
      "outputs": []
    },
    {
      "cell_type": "markdown",
      "source": [
        "At the end of each epoch you have to validate the model on the test dataset."
      ],
      "metadata": {
        "id": "2l7QEl-GZsPs"
      }
    },
    {
      "cell_type": "code",
      "source": [
        "def perform_validation():\n",
        "  losses=[]\n",
        "  for x_val,y_val in test:\n",
        "    val_logits=model(x_val)\n",
        "    val_loss=loss_fn(y_val,val_logits)\n",
        "    losses.append(val_loss)\n",
        "    val_acc_metric(y_val,val_logits)\n",
        "  return losses"
      ],
      "metadata": {
        "id": "-cVsev4FVcyb"
      },
      "execution_count": 40,
      "outputs": []
    },
    {
      "cell_type": "markdown",
      "source": [
        "1.  Perform training over all batches of training data.\n",
        "2. Get values of metrics.\n",
        "3. Perform validation to calculate loss and update validation metrics on test data.\n",
        "4. Reset the metrics at the end of epoch.\n",
        "5. Display statistics at the end of each epoch."
      ],
      "metadata": {
        "id": "VdbUcv2oaJxO"
      }
    },
    {
      "cell_type": "code",
      "source": [
        "model = base_model()\n",
        "epochs = 10\n",
        "epochs_val_losses, epochs_train_losses = [], []\n",
        "for epoch in range(epochs):\n",
        "  print('Start of epoch %d' % (epoch,))\n",
        "\n",
        "  losses_train = train_data_for_one_epoch()\n",
        "  train_acc = train_acc_metric.result()\n",
        "\n",
        "  losses_val = perform_validation()\n",
        "  val_acc = val_acc_metric.result()\n",
        "\n",
        "  losses_train_mean = np.mean(losses_train)\n",
        "  losses_val_mean = np.mean(losses_val) #Computes average loss per epoch\n",
        "  epochs_val_losses.append(losses_val_mean)\n",
        "  epochs_train_losses.append(losses_train_mean)\n",
        "\n",
        "  print('\\n Epoch %s: Train loss: %.4f  Validation Loss: %.4f, Train Accuracy: %.4f, Validation Accuracy %.4f' % (epoch, float(losses_train_mean), float(losses_val_mean), float(train_acc), float(val_acc)))\n",
        "  train_acc_metric.reset_state() #This clears the metric’s internal state for the next epoch.\n",
        "  val_acc_metric.reset_state()"
      ],
      "metadata": {
        "colab": {
          "base_uri": "https://localhost:8080/"
        },
        "id": "JfY4hNr0aZGM",
        "outputId": "a845fdd4-74fe-4f73-e2b3-785ca844a5c9"
      },
      "execution_count": 41,
      "outputs": [
        {
          "output_type": "stream",
          "name": "stdout",
          "text": [
            "Start of epoch 0\n",
            "\n",
            " Epoch 0: Train loss: 0.5432  Validation Loss: 0.4563, Train Accuracy: 0.8110, Validation Accuracy 0.8419\n",
            "Start of epoch 1\n",
            "\n",
            " Epoch 1: Train loss: 0.3854  Validation Loss: 0.4037, Train Accuracy: 0.8619, Validation Accuracy 0.8562\n",
            "Start of epoch 2\n",
            "\n",
            " Epoch 2: Train loss: 0.3483  Validation Loss: 0.3816, Train Accuracy: 0.8726, Validation Accuracy 0.8634\n",
            "Start of epoch 3\n",
            "\n",
            " Epoch 3: Train loss: 0.3280  Validation Loss: 0.3733, Train Accuracy: 0.8804, Validation Accuracy 0.8694\n",
            "Start of epoch 4\n",
            "\n",
            " Epoch 4: Train loss: 0.3097  Validation Loss: 0.3681, Train Accuracy: 0.8857, Validation Accuracy 0.8677\n",
            "Start of epoch 5\n",
            "\n",
            " Epoch 5: Train loss: 0.2949  Validation Loss: 0.3723, Train Accuracy: 0.8906, Validation Accuracy 0.8732\n",
            "Start of epoch 6\n",
            "\n",
            " Epoch 6: Train loss: 0.2830  Validation Loss: 0.3590, Train Accuracy: 0.8958, Validation Accuracy 0.8770\n",
            "Start of epoch 7\n",
            "\n",
            " Epoch 7: Train loss: 0.2756  Validation Loss: 0.3487, Train Accuracy: 0.8978, Validation Accuracy 0.8785\n",
            "Start of epoch 8\n",
            "\n",
            " Epoch 8: Train loss: 0.2674  Validation Loss: 0.3505, Train Accuracy: 0.9007, Validation Accuracy 0.8800\n",
            "Start of epoch 9\n",
            "\n",
            " Epoch 9: Train loss: 0.2576  Validation Loss: 0.3585, Train Accuracy: 0.9035, Validation Accuracy 0.8785\n"
          ]
        }
      ]
    },
    {
      "cell_type": "markdown",
      "source": [
        "**6. Evaluate Model**"
      ],
      "metadata": {
        "id": "v5gGOgeibYLP"
      }
    },
    {
      "cell_type": "markdown",
      "source": [],
      "metadata": {
        "id": "7hfXKT1VbcwE"
      }
    },
    {
      "cell_type": "code",
      "source": [
        "def plot_metrics(train_metric, val_metric, metric_name, title, ylim=5):\n",
        "  plt.title(title)\n",
        "  plt.ylim(0,ylim)\n",
        "  plt.gca().xaxis.set_major_locator(mticker.MultipleLocator(1))\n",
        "  plt.plot(train_metric,color='blue',label=metric_name)\n",
        "  plt.plot(val_metric,color='green',label='val_' + metric_name)\n",
        "\n",
        "plot_metrics(epochs_train_losses, epochs_val_losses, \"Loss\", \"Loss\", ylim=1.0)"
      ],
      "metadata": {
        "colab": {
          "base_uri": "https://localhost:8080/",
          "height": 452
        },
        "id": "S7J1B6ucaZI5",
        "outputId": "1dad2cfa-b3cd-445d-bf3a-9bd24f75c6ac"
      },
      "execution_count": 42,
      "outputs": [
        {
          "output_type": "display_data",
          "data": {
            "text/plain": [
              "<Figure size 640x480 with 1 Axes>"
            ],
            "image/png": "[encoded data removed]"
          },
          "metadata": {}
        }
      ]
    },
    {
      "cell_type": "code",
      "source": [
        "#This function displays a row of images with their predictions and true labels.\n",
        "# utility to display a row of images with their predictions and true labels\n",
        "def display_images(image, predictions, labels, title, n):\n",
        "\n",
        "  display_strings = [str(i) + \"\\n\\n\" + str(j) for i, j in zip(predictions, labels)]\n",
        "\n",
        "  plt.figure(figsize=(17,3))\n",
        "  plt.title(title)\n",
        "  plt.yticks([])\n",
        "  plt.xticks([28*x+14 for x in range(n)], display_strings)\n",
        "  plt.grid(None)\n",
        "  image = np.reshape(image, [n, 28, 28])\n",
        "  image = np.swapaxes(image, 0, 1)\n",
        "  image = np.reshape(image, [28, 28*n])\n",
        "  plt.imshow(image)"
      ],
      "metadata": {
        "id": "n_TUGfRpaZL-"
      },
      "execution_count": 43,
      "outputs": []
    },
    {
      "cell_type": "code",
      "source": [
        "#You make predictions on the test dataset and plot the images with their true and predicted values.\n",
        "test_inputs = test_data.batch(batch_size=1000001)\n",
        "x_batches, y_pred_batches, y_true_batches = [], [], []\n",
        "\n",
        "for x, y in test_inputs:\n",
        "  y_pred = model(x)\n",
        "  y_pred_batches = y_pred.numpy()\n",
        "  y_true_batches = y.numpy()\n",
        "  x_batches = x.numpy()\n",
        "\n",
        "indexes = np.random.choice(len(y_pred_batches), size=10)\n",
        "images_to_plot = x_batches[indexes]\n",
        "y_pred_to_plot = y_pred_batches[indexes]\n",
        "y_true_to_plot = y_true_batches[indexes]\n",
        "\n",
        "y_pred_labels = [class_names[np.argmax(sel_y_pred)] for sel_y_pred in y_pred_to_plot]\n",
        "y_true_labels = [class_names[sel_y_true] for sel_y_true in y_true_to_plot]\n",
        "display_images(images_to_plot, y_pred_labels, y_true_labels, \"Predicted and True Values\", 10)"
      ],
      "metadata": {
        "colab": {
          "base_uri": "https://localhost:8080/",
          "height": 247
        },
        "id": "HaR_RLBdaZPg",
        "outputId": "679c4af6-2c7d-45a2-9f2c-c61d5bcbbcfa"
      },
      "execution_count": 44,
      "outputs": [
        {
          "output_type": "display_data",
          "data": {
            "text/plain": [
              "<Figure size 1700x300 with 1 Axes>"
            ],
            "image/png": "[encoded data removed]"
          },
          "metadata": {}
        }
      ]
    }
  ]
}